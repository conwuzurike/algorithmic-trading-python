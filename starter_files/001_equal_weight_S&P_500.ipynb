{
 "cells": [
  {
   "cell_type": "markdown",
   "metadata": {},
   "source": [
    "# Equal-Weight S&P 500 Index Fund\n",
    "\n",
    "## Introduction & Library Imports\n",
    "\n",
    "The S&P 500 is the world's most popular stock market index. The largest fund that is benchmarked to this index is the SPDR® S&P 500® ETF Trust. It has more than US$250 billion of assets under management.\n",
    "\n",
    "The goal of this section of the course is to create a Python script that will accept the value of your portfolio and tell you how many shares of each S&P 500 constituent you should purchase to get an equal-weight version of the index fund.\n",
    "\n",
    "## Library Imports\n",
    "\n",
    "The first thing we need to do is import the open-source software libraries that we'll be using in this tutorial."
   ]
  },
  {
   "cell_type": "code",
   "execution_count": 1,
   "metadata": {},
   "outputs": [],
   "source": [
    "import numpy as np\n",
    "import pandas as pd\n",
    "import requests\n",
    "import xlsxwriter\n",
    "import math"
   ]
  },
  {
   "cell_type": "markdown",
   "metadata": {},
   "source": [
    "## Importing Our List of Stocks\n",
    "\n",
    "The next thing we need to do is import the constituents of the S&P 500.\n",
    "\n",
    "These constituents change over time, so in an ideal world you would connect directly to the index provider (Standard & Poor's) and pull their real-time constituents on a regular basis.\n",
    "\n",
    "Paying for access to the index provider's API is outside of the scope of this course. \n",
    "\n",
    "There's a static version of the S&P 500 constituents available here. [Click this link to download them now](https://drive.google.com/file/d/1ZJSpbY69DVckVZlO9cC6KkgfSufybcHN/view?usp=sharing). Move this file into the `starter-files` folder so it can be accessed by other files in that directory.\n",
    "\n",
    "Now it's time to import these stocks to our Jupyter Notebook file."
   ]
  },
  {
   "cell_type": "code",
   "execution_count": 2,
   "metadata": {},
   "outputs": [],
   "source": [
    "stocks = pd.read_csv('sp_500_stocks.csv')"
   ]
  },
  {
   "cell_type": "markdown",
   "metadata": {},
   "source": [
    "## Acquiring an API Token\n",
    "\n",
    "Now it's time to import our IEX Cloud API token. This is the data provider that we will be using throughout this course.\n",
    "\n",
    "API tokens (and other sensitive information) should be stored in a `secrets.py` file that doesn't get pushed to your local Git repository. We'll be using a sandbox API token in this course, which means that the data we'll use is randomly-generated and (more importantly) has no cost associated with it.\n",
    "\n",
    "[Click here](http://nickmccullum.com/algorithmic-trading-python/secrets.py) to download your `secrets.py` file. Move the file into the same directory as this Jupyter Notebook before proceeding."
   ]
  },
  {
   "cell_type": "code",
   "execution_count": 3,
   "metadata": {},
   "outputs": [],
   "source": [
    "from secrets import IEX_CLOUD_API_TOKEN"
   ]
  },
  {
   "cell_type": "markdown",
   "metadata": {},
   "source": [
    "## Making Our First API Call\n",
    "\n",
    "Now it's time to structure our API calls to IEX cloud. \n",
    "\n",
    "We need the following information from the API:\n",
    "\n",
    "* Market capitalization for each stock\n",
    "* Price of each stock\n",
    "\n"
   ]
  },
  {
   "cell_type": "code",
   "execution_count": 4,
   "metadata": {},
   "outputs": [],
   "source": [
    "symbol= 'AAPL'\n",
    "api_url= f'https://sandbox.iexapis.com/stable/stock/{symbol}/quote/?token={IEX_CLOUD_API_TOKEN}'\n",
    "data= requests.get(api_url).json()"
   ]
  },
  {
   "cell_type": "markdown",
   "metadata": {},
   "source": [
    "## Parsing Our API Call\n",
    "\n",
    "The API call that we executed in the last code block contains all of the information required to build our equal-weight S&P 500 strategy. \n",
    "\n",
    "With that said, the data isn't in a proper format yet. We need to parse it first."
   ]
  },
  {
   "cell_type": "code",
   "execution_count": 5,
   "metadata": {},
   "outputs": [],
   "source": [
    "price = data['latestPrice']\n",
    "market_cap = data['marketCap']"
   ]
  },
  {
   "cell_type": "markdown",
   "metadata": {},
   "source": [
    "## Adding Our Stocks Data to a Pandas DataFrame\n",
    "\n",
    "The next thing we need to do is add our stock's price and market capitalization to a pandas DataFrame. Think of a DataFrame like the Python version of a spreadsheet. It stores tabular data."
   ]
  },
  {
   "cell_type": "code",
   "execution_count": 6,
   "metadata": {},
   "outputs": [],
   "source": [
    "col = ['Ticker','Stock Price','Market Cap', 'Purchase Amount']\n",
    "final_df = pd.DataFrame(columns=col)"
   ]
  },
  {
   "cell_type": "code",
   "execution_count": 7,
   "metadata": {},
   "outputs": [
    {
     "output_type": "execute_result",
     "data": {
      "text/plain": [
       "  Ticker  Stock Price     Market Cap Purchase Amount\n",
       "0   AAPL       139.26  2305692092982             N/A"
      ],
      "text/html": "<div>\n<style scoped>\n    .dataframe tbody tr th:only-of-type {\n        vertical-align: middle;\n    }\n\n    .dataframe tbody tr th {\n        vertical-align: top;\n    }\n\n    .dataframe thead th {\n        text-align: right;\n    }\n</style>\n<table border=\"1\" class=\"dataframe\">\n  <thead>\n    <tr style=\"text-align: right;\">\n      <th></th>\n      <th>Ticker</th>\n      <th>Stock Price</th>\n      <th>Market Cap</th>\n      <th>Purchase Amount</th>\n    </tr>\n  </thead>\n  <tbody>\n    <tr>\n      <td>0</td>\n      <td>AAPL</td>\n      <td>139.26</td>\n      <td>2305692092982</td>\n      <td>N/A</td>\n    </tr>\n  </tbody>\n</table>\n</div>"
     },
     "metadata": {},
     "execution_count": 7
    }
   ],
   "source": [
    "final_df.append(\n",
    "    pd.Series(\n",
    "        [symbol,price,market_cap,'N/A'],\n",
    "        index=col\n",
    "        ),\n",
    "    ignore_index=True\n",
    "    )"
   ]
  },
  {
   "cell_type": "markdown",
   "metadata": {},
   "source": [
    "## Looping Through The Tickers in Our List of Stocks\n",
    "\n",
    "Using the same logic that we outlined above, we can pull data for all S&P 500 stocks and store their data in the DataFrame using a `for` loop."
   ]
  },
  {
   "cell_type": "code",
   "execution_count": 8,
   "metadata": {},
   "outputs": [],
   "source": [
    "final_df = pd.DataFrame(columns=col)\n",
    "for stock in stocks['Ticker']:\n",
    "    api_url= f'https://sandbox.iexapis.com/stable/stock/{stock}/quote/?token={IEX_CLOUD_API_TOKEN}'\n",
    "    data= requests.get(api_url).json()\n",
    "\n",
    "    final_df = final_df.append(\n",
    "    pd.Series(\n",
    "        [symbol,\n",
    "        data['latestPrice'],\n",
    "        data['marketCap'],\n",
    "        'N/A'],\n",
    "        index=col\n",
    "        ),\n",
    "    ignore_index=True\n",
    "    )\n",
    "\n"
   ]
  },
  {
   "cell_type": "code",
   "execution_count": 9,
   "metadata": {},
   "outputs": [
    {
     "output_type": "execute_result",
     "data": {
      "text/plain": [
       "    Ticker  Stock Price     Market Cap Purchase Amount\n",
       "0     AAPL       122.18    36594190548             N/A\n",
       "1     AAPL        16.09     9907067882             N/A\n",
       "2     AAPL       159.39    10979758230             N/A\n",
       "3     AAPL       134.53  2265936029614             N/A\n",
       "4     AAPL       111.49   198505517312             N/A\n",
       "..     ...          ...            ...             ...\n",
       "500   AAPL       109.32    33433052531             N/A\n",
       "501   AAPL       155.06    33105568367             N/A\n",
       "502   AAPL       386.67    21059178318             N/A\n",
       "503   AAPL        44.45     7225752966             N/A\n",
       "504   AAPL       173.40    82315662341             N/A\n",
       "\n",
       "[505 rows x 4 columns]"
      ],
      "text/html": "<div>\n<style scoped>\n    .dataframe tbody tr th:only-of-type {\n        vertical-align: middle;\n    }\n\n    .dataframe tbody tr th {\n        vertical-align: top;\n    }\n\n    .dataframe thead th {\n        text-align: right;\n    }\n</style>\n<table border=\"1\" class=\"dataframe\">\n  <thead>\n    <tr style=\"text-align: right;\">\n      <th></th>\n      <th>Ticker</th>\n      <th>Stock Price</th>\n      <th>Market Cap</th>\n      <th>Purchase Amount</th>\n    </tr>\n  </thead>\n  <tbody>\n    <tr>\n      <td>0</td>\n      <td>AAPL</td>\n      <td>122.18</td>\n      <td>36594190548</td>\n      <td>N/A</td>\n    </tr>\n    <tr>\n      <td>1</td>\n      <td>AAPL</td>\n      <td>16.09</td>\n      <td>9907067882</td>\n      <td>N/A</td>\n    </tr>\n    <tr>\n      <td>2</td>\n      <td>AAPL</td>\n      <td>159.39</td>\n      <td>10979758230</td>\n      <td>N/A</td>\n    </tr>\n    <tr>\n      <td>3</td>\n      <td>AAPL</td>\n      <td>134.53</td>\n      <td>2265936029614</td>\n      <td>N/A</td>\n    </tr>\n    <tr>\n      <td>4</td>\n      <td>AAPL</td>\n      <td>111.49</td>\n      <td>198505517312</td>\n      <td>N/A</td>\n    </tr>\n    <tr>\n      <td>...</td>\n      <td>...</td>\n      <td>...</td>\n      <td>...</td>\n      <td>...</td>\n    </tr>\n    <tr>\n      <td>500</td>\n      <td>AAPL</td>\n      <td>109.32</td>\n      <td>33433052531</td>\n      <td>N/A</td>\n    </tr>\n    <tr>\n      <td>501</td>\n      <td>AAPL</td>\n      <td>155.06</td>\n      <td>33105568367</td>\n      <td>N/A</td>\n    </tr>\n    <tr>\n      <td>502</td>\n      <td>AAPL</td>\n      <td>386.67</td>\n      <td>21059178318</td>\n      <td>N/A</td>\n    </tr>\n    <tr>\n      <td>503</td>\n      <td>AAPL</td>\n      <td>44.45</td>\n      <td>7225752966</td>\n      <td>N/A</td>\n    </tr>\n    <tr>\n      <td>504</td>\n      <td>AAPL</td>\n      <td>173.40</td>\n      <td>82315662341</td>\n      <td>N/A</td>\n    </tr>\n  </tbody>\n</table>\n<p>505 rows × 4 columns</p>\n</div>"
     },
     "metadata": {},
     "execution_count": 9
    }
   ],
   "source": [
    "final_df"
   ]
  },
  {
   "cell_type": "markdown",
   "metadata": {},
   "source": [
    "## Using Batch API Calls to Improve Performance\n",
    "\n",
    "Batch API calls are one of the easiest ways to improve the performance of your code.\n",
    "\n",
    "This is because HTTP requests are typically one of the slowest components of a script.\n",
    "\n",
    "Also, API providers will often give you discounted rates for using batch API calls since they are easier for the API provider to respond to.\n",
    "\n",
    "IEX Cloud limits their batch API calls to 100 tickers per request. Still, this reduces the number of API calls we'll make in this section from 500 to 5 - huge improvement! In this section, we'll split our list of stocks into groups of 100 and then make a batch API call for each group."
   ]
  },
  {
   "cell_type": "code",
   "execution_count": 10,
   "metadata": {},
   "outputs": [],
   "source": [
    "def chunks(lst, n):\n",
    "    \"\"\"Yields successive n-sized chunks from lst.\"\"\"\n",
    "    for i in range(0,len(lst), n):\n",
    "        yield lst[i:i+n]"
   ]
  },
  {
   "cell_type": "code",
   "execution_count": 11,
   "metadata": {},
   "outputs": [],
   "source": [
    "symbol_batches = list(chunks(stocks['Ticker'],100))\n",
    "symbol_stings = []\n",
    "for i in range(0, len(symbol_batches)):\n",
    "    symbol_stings.append(','.join(symbol_batches[i]))"
   ]
  },
  {
   "cell_type": "code",
   "execution_count": 12,
   "metadata": {},
   "outputs": [],
   "source": [
    "final_df = pd.DataFrame(columns=col)\n",
    "\n",
    "for symbol_sting in symbol_stings:\n",
    "    batch_api_call_url= f'https://sandbox.iexapis.com/stable/stock/market/batch?symbols={symbol_sting}&types=quote&token={IEX_CLOUD_API_TOKEN}'\n",
    "\n",
    "    data= requests.get(batch_api_call_url).json()\n",
    "\n",
    "    for symbol in symbol_sting.split(','):\n",
    "        final_df = final_df.append(\n",
    "        pd.Series(\n",
    "            [symbol,\n",
    "            data[symbol]['quote']['latestPrice'],\n",
    "            data[symbol]['quote']['marketCap'],\n",
    "            'N/A'],\n",
    "            index=col\n",
    "            ),\n",
    "        ignore_index=True\n",
    "        )"
   ]
  },
  {
   "cell_type": "code",
   "execution_count": 13,
   "metadata": {},
   "outputs": [
    {
     "output_type": "execute_result",
     "data": {
      "text/plain": [
       "    Ticker  Stock Price     Market Cap Purchase Amount\n",
       "0        A       119.08    38010955677             N/A\n",
       "1      AAL        16.25     9791261515             N/A\n",
       "2      AAP       160.27    11098924235             N/A\n",
       "3     AAPL       137.24  2323374318049             N/A\n",
       "4     ABBV       109.59   196595613389             N/A\n",
       "..     ...          ...            ...             ...\n",
       "500    YUM       112.95    32811239424             N/A\n",
       "501    ZBH       159.54    32660255798             N/A\n",
       "502   ZBRA       396.44    20635924722             N/A\n",
       "503   ZION        43.56     7332568008             N/A\n",
       "504    ZTS       171.60    82525284033             N/A\n",
       "\n",
       "[505 rows x 4 columns]"
      ],
      "text/html": "<div>\n<style scoped>\n    .dataframe tbody tr th:only-of-type {\n        vertical-align: middle;\n    }\n\n    .dataframe tbody tr th {\n        vertical-align: top;\n    }\n\n    .dataframe thead th {\n        text-align: right;\n    }\n</style>\n<table border=\"1\" class=\"dataframe\">\n  <thead>\n    <tr style=\"text-align: right;\">\n      <th></th>\n      <th>Ticker</th>\n      <th>Stock Price</th>\n      <th>Market Cap</th>\n      <th>Purchase Amount</th>\n    </tr>\n  </thead>\n  <tbody>\n    <tr>\n      <td>0</td>\n      <td>A</td>\n      <td>119.08</td>\n      <td>38010955677</td>\n      <td>N/A</td>\n    </tr>\n    <tr>\n      <td>1</td>\n      <td>AAL</td>\n      <td>16.25</td>\n      <td>9791261515</td>\n      <td>N/A</td>\n    </tr>\n    <tr>\n      <td>2</td>\n      <td>AAP</td>\n      <td>160.27</td>\n      <td>11098924235</td>\n      <td>N/A</td>\n    </tr>\n    <tr>\n      <td>3</td>\n      <td>AAPL</td>\n      <td>137.24</td>\n      <td>2323374318049</td>\n      <td>N/A</td>\n    </tr>\n    <tr>\n      <td>4</td>\n      <td>ABBV</td>\n      <td>109.59</td>\n      <td>196595613389</td>\n      <td>N/A</td>\n    </tr>\n    <tr>\n      <td>...</td>\n      <td>...</td>\n      <td>...</td>\n      <td>...</td>\n      <td>...</td>\n    </tr>\n    <tr>\n      <td>500</td>\n      <td>YUM</td>\n      <td>112.95</td>\n      <td>32811239424</td>\n      <td>N/A</td>\n    </tr>\n    <tr>\n      <td>501</td>\n      <td>ZBH</td>\n      <td>159.54</td>\n      <td>32660255798</td>\n      <td>N/A</td>\n    </tr>\n    <tr>\n      <td>502</td>\n      <td>ZBRA</td>\n      <td>396.44</td>\n      <td>20635924722</td>\n      <td>N/A</td>\n    </tr>\n    <tr>\n      <td>503</td>\n      <td>ZION</td>\n      <td>43.56</td>\n      <td>7332568008</td>\n      <td>N/A</td>\n    </tr>\n    <tr>\n      <td>504</td>\n      <td>ZTS</td>\n      <td>171.60</td>\n      <td>82525284033</td>\n      <td>N/A</td>\n    </tr>\n  </tbody>\n</table>\n<p>505 rows × 4 columns</p>\n</div>"
     },
     "metadata": {},
     "execution_count": 13
    }
   ],
   "source": [
    "final_df"
   ]
  },
  {
   "cell_type": "markdown",
   "metadata": {},
   "source": [
    "## Calculating the Number of Shares to Buy\n",
    "\n",
    "As you can see in the DataFrame above, we stil haven't calculated the number of shares of each stock to buy.\n",
    "\n",
    "We'll do that next."
   ]
  },
  {
   "cell_type": "code",
   "execution_count": 36,
   "metadata": {},
   "outputs": [
    {
     "output_type": "execute_result",
     "data": {
      "text/plain": [
       "1000000.0"
      ]
     },
     "metadata": {},
     "execution_count": 36
    }
   ],
   "source": [
    "\n",
    "while True:\n",
    "    try:\n",
    "        portfolio_size = float(input('Enter the value of your portfolio:'))\n",
    "\n",
    "    except ValueError:\n",
    "        print (\"Oops!  That was not a valid number.  Try again...\")\n",
    "        \n",
    "    else:\n",
    "        break\n",
    "\n",
    "portfolio_size"
   ]
  },
  {
   "cell_type": "code",
   "execution_count": 37,
   "metadata": {},
   "outputs": [],
   "source": [
    "position_size = portfolio_size/len(final_df.index)\n",
    "for i in range (0, len(final_df.index)):\n",
    "    final_df.loc[i,'Purchase Amount'] = math.floor(position_size/final_df.loc[i,'Stock Price'])"
   ]
  },
  {
   "cell_type": "code",
   "execution_count": 38,
   "metadata": {},
   "outputs": [
    {
     "output_type": "execute_result",
     "data": {
      "text/plain": [
       "    Ticker  Stock Price     Market Cap  Purchase Amount\n",
       "0        A       119.08    38010955677               16\n",
       "1      AAL        16.25     9791261515              121\n",
       "2      AAP       160.27    11098924235               12\n",
       "3     AAPL       137.24  2323374318049               14\n",
       "4     ABBV       109.59   196595613389               18\n",
       "..     ...          ...            ...              ...\n",
       "500    YUM       112.95    32811239424               17\n",
       "501    ZBH       159.54    32660255798               12\n",
       "502   ZBRA       396.44    20635924722                4\n",
       "503   ZION        43.56     7332568008               45\n",
       "504    ZTS       171.60    82525284033               11\n",
       "\n",
       "[505 rows x 4 columns]"
      ],
      "text/html": "<div>\n<style scoped>\n    .dataframe tbody tr th:only-of-type {\n        vertical-align: middle;\n    }\n\n    .dataframe tbody tr th {\n        vertical-align: top;\n    }\n\n    .dataframe thead th {\n        text-align: right;\n    }\n</style>\n<table border=\"1\" class=\"dataframe\">\n  <thead>\n    <tr style=\"text-align: right;\">\n      <th></th>\n      <th>Ticker</th>\n      <th>Stock Price</th>\n      <th>Market Cap</th>\n      <th>Purchase Amount</th>\n    </tr>\n  </thead>\n  <tbody>\n    <tr>\n      <td>0</td>\n      <td>A</td>\n      <td>119.08</td>\n      <td>38010955677</td>\n      <td>16</td>\n    </tr>\n    <tr>\n      <td>1</td>\n      <td>AAL</td>\n      <td>16.25</td>\n      <td>9791261515</td>\n      <td>121</td>\n    </tr>\n    <tr>\n      <td>2</td>\n      <td>AAP</td>\n      <td>160.27</td>\n      <td>11098924235</td>\n      <td>12</td>\n    </tr>\n    <tr>\n      <td>3</td>\n      <td>AAPL</td>\n      <td>137.24</td>\n      <td>2323374318049</td>\n      <td>14</td>\n    </tr>\n    <tr>\n      <td>4</td>\n      <td>ABBV</td>\n      <td>109.59</td>\n      <td>196595613389</td>\n      <td>18</td>\n    </tr>\n    <tr>\n      <td>...</td>\n      <td>...</td>\n      <td>...</td>\n      <td>...</td>\n      <td>...</td>\n    </tr>\n    <tr>\n      <td>500</td>\n      <td>YUM</td>\n      <td>112.95</td>\n      <td>32811239424</td>\n      <td>17</td>\n    </tr>\n    <tr>\n      <td>501</td>\n      <td>ZBH</td>\n      <td>159.54</td>\n      <td>32660255798</td>\n      <td>12</td>\n    </tr>\n    <tr>\n      <td>502</td>\n      <td>ZBRA</td>\n      <td>396.44</td>\n      <td>20635924722</td>\n      <td>4</td>\n    </tr>\n    <tr>\n      <td>503</td>\n      <td>ZION</td>\n      <td>43.56</td>\n      <td>7332568008</td>\n      <td>45</td>\n    </tr>\n    <tr>\n      <td>504</td>\n      <td>ZTS</td>\n      <td>171.60</td>\n      <td>82525284033</td>\n      <td>11</td>\n    </tr>\n  </tbody>\n</table>\n<p>505 rows × 4 columns</p>\n</div>"
     },
     "metadata": {},
     "execution_count": 38
    }
   ],
   "source": [
    "final_df"
   ]
  },
  {
   "cell_type": "markdown",
   "metadata": {},
   "source": [
    "## Formatting Our Excel Output\n",
    "\n",
    "We will be using the XlsxWriter library for Python to create nicely-formatted Excel files.\n",
    "\n",
    "XlsxWriter is an excellent package and offers tons of customization. However, the tradeoff for this is that the library can seem very complicated to new users. Accordingly, this section will be fairly long because I want to do a good job of explaining how XlsxWriter works.\n",
    "\n",
    "### Initializing our XlsxWriter Object"
   ]
  },
  {
   "cell_type": "code",
   "execution_count": 72,
   "metadata": {},
   "outputs": [],
   "source": [
    "writer = pd.ExcelWriter('recommended_trades.xlsx', engine= 'xlsxwriter')\n",
    "final_df.to_excel(writer, sheet_name= 'Recommended Trades', index= False)"
   ]
  },
  {
   "cell_type": "markdown",
   "metadata": {},
   "source": [
    "### Creating the Formats We'll Need For Our `.xlsx` File\n",
    "\n",
    "Formats include colors, fonts, and also symbols like `%` and `$`. We'll need four main formats for our Excel document:\n",
    "* String format for tickers\n",
    "* \\\\$XX.XX format for stock prices\n",
    "* \\\\$XX,XXX format for market capitalization\n",
    "* Integer format for the number of shares to purchase"
   ]
  },
  {
   "cell_type": "code",
   "execution_count": 73,
   "metadata": {},
   "outputs": [],
   "source": [
    "background_color = '#0a0a23'\n",
    "font_color = 'ffffff'\n",
    "\n",
    "string_format = writer.book.add_format(\n",
    " {\n",
    "        'font_color': font_color,\n",
    "        'bg_color': background_color,\n",
    "        'border': 1,\n",
    "    }\n",
    ")\n",
    "\n",
    "dollar_format = writer.book.add_format(\n",
    " {\n",
    "        'num_format': '$0.00',\n",
    "        'font_color': font_color,\n",
    "        'bg_color': background_color,\n",
    "        'border': 1,\n",
    "    }\n",
    ")\n",
    "\n",
    "integer_format = writer.book.add_format(\n",
    "    {\n",
    "        'num_format': '0',\n",
    "        'font_color': font_color,\n",
    "        'bg_color': background_color,\n",
    "        'border': 1,\n",
    "    }\n",
    ")\n"
   ]
  },
  {
   "cell_type": "markdown",
   "metadata": {},
   "source": [
    "### Applying the Formats to the Columns of Our `.xlsx` File\n",
    "\n",
    "We can use the `set_column` method applied to the `writer.sheets['Recommended Trades']` object to apply formats to specific columns of our spreadsheets.\n",
    "\n",
    "Here's an example:\n",
    "\n",
    "```python\n",
    "writer.sheets['Recommended Trades'].set_column('B:B', #This tells the method to apply the format to column B\n",
    "                     18, #This tells the method to apply a column width of 18 pixels\n",
    "                     string_template #This applies the format 'string_template' to the column\n",
    "                    )\n",
    "```"
   ]
  },
  {
   "cell_type": "code",
   "execution_count": 74,
   "metadata": {},
   "outputs": [],
   "source": [
    "writer.sheets['Recommended Trades'].set_column('A:A', 10, string_format)\n",
    "writer.sheets['Recommended Trades'].set_column('B:B', 10, string_format)\n",
    "writer.sheets['Recommended Trades'].set_column('C:C', 10, string_format)\n",
    "writer.sheets['Recommended Trades'].set_column('D:D', 10, string_format)\n",
    "writer.save()"
   ]
  },
  {
   "cell_type": "markdown",
   "metadata": {},
   "source": [
    "This code works, but it violates the software principle of \"Don't Repeat Yourself\". \n",
    "\n",
    "Let's simplify this by putting it in 2 loops:"
   ]
  },
  {
   "cell_type": "code",
   "execution_count": 75,
   "metadata": {},
   "outputs": [],
   "source": [
    "column_formats = {\n",
    "    'A':['Ticker',string_format],\n",
    "    'B':['Stock Price',dollar_format],\n",
    "    'C':['Market Cap',dollar_format],\n",
    "    'D':['Purchase Amount',integer_format]\n",
    "}\n",
    "for column in column_formats.keys():\n",
    "    writer.sheets['Recommended Trades'].set_column(f'{column}:{column}', 10, column_formats[column][1])\n",
    "    writer.sheets['Recommended Trades'].write(f'{column}1', column_formats[column][0],column_formats[column][1])"
   ]
  },
  {
   "cell_type": "markdown",
   "metadata": {},
   "source": [
    "## Saving Our Excel Output\n",
    "\n",
    "Saving our Excel file is very easy:"
   ]
  },
  {
   "cell_type": "code",
   "execution_count": 76,
   "metadata": {},
   "outputs": [],
   "source": [
    "writer.save()"
   ]
  }
 ],
 "metadata": {
  "kernelspec": {
   "display_name": "Python 3",
   "language": "python",
   "name": "python3"
  },
  "language_info": {
   "codemirror_mode": {
    "name": "ipython",
    "version": 3
   },
   "file_extension": ".py",
   "mimetype": "text/x-python",
   "name": "python",
   "nbconvert_exporter": "python",
   "pygments_lexer": "ipython3",
   "version": "3.7.4-final"
  }
 },
 "nbformat": 4,
 "nbformat_minor": 4
}